{
 "cells": [
  {
   "cell_type": "markdown",
   "source": [
    "<h3>Descripción del notebook</h3>\n",
    "<p>Vamos con la parte de  generar un modelo CNN para entrenar nuestra IA con los datos ya tratados.\n",
    "Para ello primero cargamos en dataFrames los csv generados con la carga de los datos de las imágenes y sus etiquetas</p>"
   ],
   "metadata": {
    "collapsed": false
   },
   "id": "a5ce665d803f018d"
  },
  {
   "cell_type": "markdown",
   "source": [
    "<p>Cargamos las librerias necesáreas</p>"
   ],
   "metadata": {
    "collapsed": false
   },
   "id": "e737dabcb1957022"
  },
  {
   "cell_type": "code",
   "execution_count": null,
   "outputs": [],
   "source": [
    "import os\n",
    "import pandas as pd\n",
    "import pydicom\n",
    "import numpy as np\n",
    "\n",
    "from skimage import exposure\n",
    "import tensorflow as tf\n",
    "from sklearn.preprocessing import LabelEncoder\n",
    "from tensorflow.keras import layers\n",
    "from skimage.transform import resize\n",
    "from concurrent.futures import ThreadPoolExecutor\n",
    "from pydicom.pixel_data_handlers import pillow_handler\n",
    "from tensorflow import keras\n",
    "from tensorflow.keras.preprocessing.image import ImageDataGenerator\n",
    "from tensorflow.keras.callbacks import EarlyStopping\n",
    "from tensorflow.keras.models import load_model\n",
    "import matplotlib.pyplot as plt\n",
    "import ast"
   ],
   "metadata": {
    "collapsed": false
   },
   "id": "e8af690d2c295d08"
  },
  {
   "cell_type": "markdown",
   "source": [
    "<p>Verifica la versión de TensorFlow y Configuramos para utilizar GPU si está disponible</p>"
   ],
   "metadata": {
    "collapsed": false
   },
   "id": "6b69a77b55e1d55b"
  },
  {
   "cell_type": "code",
   "execution_count": null,
   "outputs": [],
   "source": [
    "print(tf.__version__)\n",
    "\n",
    "# Configuramos para utilizar GPU si está disponible\n",
    "if tf.config.experimental.list_physical_devices('GPU'):\n",
    "    physical_devices = tf.config.list_physical_devices('GPU')\n",
    "    tf.config.experimental.set_memory_growth(physical_devices[0], enable=True)\n",
    "    batch_size = 128\n",
    "    print(\"GPU encontrada y configurada para el crecimiento dinámico de la memoria.\")\n",
    "else:\n",
    "    print(\"No se encontraron GPUs disponibles.\")"
   ],
   "metadata": {
    "collapsed": false
   },
   "id": "8ee78c842a33cf45"
  },
  {
   "cell_type": "markdown",
   "source": [
    "<p>Configurar para mostrar todas las columnas y filas\n",
    "Para ver la matriz total declaramos estas opciones</p>"
   ],
   "metadata": {
    "collapsed": false
   },
   "id": "8b6d8b88335e4baf"
  },
  {
   "cell_type": "code",
   "execution_count": null,
   "outputs": [],
   "source": [
    "pd.set_option('display.max_rows', None)\n",
    "pd.set_option('display.max_columns', None)\n",
    "np.set_printoptions(threshold=np.inf)"
   ],
   "metadata": {
    "collapsed": false
   },
   "id": "c6bf600fd9c0c3de"
  },
  {
   "cell_type": "markdown",
   "source": [
    "<p>Cargamos los CSV de entrenamiento y prueba</p>"
   ],
   "metadata": {
    "collapsed": false
   },
   "id": "beb53d444c262f47"
  },
  {
   "cell_type": "code",
   "execution_count": null,
   "outputs": [],
   "source": [
    "train_df = pd.read_csv('resultadosXytrain.csv', delimiter=';')\n",
    "test_df = pd.read_csv('resultadosXytest.csv', delimiter=';')"
   ],
   "metadata": {
    "collapsed": false
   },
   "id": "75c40520771979bd"
  },
  {
   "cell_type": "markdown",
   "source": [
    "<p>Convertimos la columna 'Image' de lista a matriz numpy</p>"
   ],
   "metadata": {
    "collapsed": false
   },
   "id": "41ad93ecda7c929b"
  },
  {
   "cell_type": "code",
   "execution_count": null,
   "outputs": [],
   "source": [
    "train_df['Image'] = train_df['Image'].apply(eval)\n",
    "print(train_df.shape)\n",
    "test_df['Image'] = test_df['Image'].apply(eval)\n",
    "\n",
    "X_train = np.array(train_df['Image'].tolist())\n",
    "X_test = np.array(test_df['Image'].tolist())"
   ],
   "metadata": {
    "collapsed": false
   },
   "id": "e58e8371fe971788"
  },
  {
   "cell_type": "markdown",
   "source": [
    "<p>Convertimos las etiquetas a números usando LabelEncoder</p>"
   ],
   "metadata": {
    "collapsed": false
   },
   "id": "1b716961af5c1a20"
  },
  {
   "cell_type": "code",
   "execution_count": null,
   "outputs": [],
   "source": [
    "label_encoder = LabelEncoder()\n",
    "train_df['Label'] = label_encoder.fit_transform(train_df['Label'])\n",
    "test_df['Label'] = label_encoder.transform(test_df['Label'])\n",
    "\n",
    "y_train = train_df['Label']\n",
    "y_test = test_df['Label']"
   ],
   "metadata": {
    "collapsed": false
   },
   "id": "c5ea714e66c4a934"
  },
  {
   "cell_type": "markdown",
   "source": [
    "<p>Cambiar el tamaño de entrada del modelo a (128, 128, 3)</p>"
   ],
   "metadata": {
    "collapsed": false
   },
   "id": "c9d8d5300ece37f8"
  },
  {
   "cell_type": "code",
   "execution_count": null,
   "outputs": [],
   "source": [
    "input_shape = (128, 128, 3)"
   ],
   "metadata": {
    "collapsed": false
   },
   "id": "69666b4bc04662b9"
  },
  {
   "cell_type": "markdown",
   "source": [
    "<p>Mejoramos los resultados Agregando capas convolucionales y pooling y dropout</p>"
   ],
   "metadata": {
    "collapsed": false
   },
   "id": "7c6513c46b16d317"
  },
  {
   "cell_type": "code",
   "execution_count": null,
   "outputs": [],
   "source": [
    "model = keras.Sequential([\n",
    "    layers.Conv2D(32, (3, 3), activation='relu', input_shape=input_shape),\n",
    "    layers.MaxPooling2D((2, 2)),\n",
    "\n",
    "    layers.Conv2D(64, (3, 3), activation='relu'),\n",
    "    layers.MaxPooling2D((2, 2)),\n",
    "\n",
    "    layers.Conv2D(128, (3, 3), activation='relu'),\n",
    "    layers.MaxPooling2D((2, 2)),\n",
    "\n",
    "    layers.Conv2D(256, (3, 3), activation='relu'),\n",
    "    layers.MaxPooling2D((2, 2)),\n",
    "\n",
    "    layers.Conv2D(256, (3, 3), activation='relu'),\n",
    "    layers.BatchNormalization(),\n",
    "    layers.MaxPooling2D((2, 2)),\n",
    "\n",
    "    layers.Flatten(),\n",
    "\n",
    "    layers.Dropout(0.5),  # Ajusta el valor de dropout\n",
    "    layers.Dense(128, activation='relu'),\n",
    "    layers.BatchNormalization(),\n",
    "\n",
    "    layers.Dropout(0.5),  # Ajusta el valor de dropout\n",
    "    layers.Dense(4, activation='softmax')\n",
    "])"
   ],
   "metadata": {
    "collapsed": false
   },
   "id": "3ea6d800a7e3310f"
  },
  {
   "cell_type": "markdown",
   "source": [
    "<p>Compilamos el modelo</p>"
   ],
   "metadata": {
    "collapsed": false
   },
   "id": "4964c4f9b9468e23"
  },
  {
   "cell_type": "code",
   "execution_count": null,
   "outputs": [],
   "source": [
    "model.compile(optimizer=keras.optimizers.Adam(learning_rate=0.0001), loss='sparse_categorical_crossentropy', metrics=['accuracy'])"
   ],
   "metadata": {
    "collapsed": false
   },
   "id": "57f0082ba15df552"
  },
  {
   "cell_type": "markdown",
   "source": [
    "<p>Configuramos el generador de aumento de datos</p>"
   ],
   "metadata": {
    "collapsed": false
   },
   "id": "47526d8ce451e872"
  },
  {
   "cell_type": "code",
   "execution_count": null,
   "outputs": [],
   "source": [
    "datagen = ImageDataGenerator(\n",
    "    rotation_range=30,\n",
    "    width_shift_range=0.3,\n",
    "    height_shift_range=0.3,\n",
    "    shear_range=0.3,\n",
    "    zoom_range=0.3,\n",
    "    horizontal_flip=True,\n",
    "    fill_mode='nearest'\n",
    ")"
   ],
   "metadata": {
    "collapsed": false
   },
   "id": "74cdd5842f594520"
  },
  {
   "cell_type": "markdown",
   "source": [
    "<p>Aplicar el aumento de datos a las imágenes de entrenamiento</p>"
   ],
   "metadata": {
    "collapsed": false
   },
   "id": "3e4f7f4f536388bf"
  },
  {
   "cell_type": "code",
   "execution_count": null,
   "outputs": [],
   "source": [
    "datagen.fit(X_train)"
   ],
   "metadata": {
    "collapsed": false
   },
   "id": "20e65f69063d6f11"
  },
  {
   "cell_type": "markdown",
   "source": [
    "<p>Entrenamos el modelo con el generador de datos aumentados</p>"
   ],
   "metadata": {
    "collapsed": false
   },
   "id": "9d546fc3bd0d4f13"
  },
  {
   "cell_type": "code",
   "execution_count": null,
   "outputs": [],
   "source": [
    "model.fit(datagen.flow(X_train, y_train, batch_size=batch_size), epochs=100, validation_data=(X_test, y_test))"
   ],
   "metadata": {
    "collapsed": false
   },
   "id": "8c9835839e472f72"
  },
  {
   "cell_type": "markdown",
   "source": [
    "<p>Evaluar el modelo en el conjunto de prueba</p>"
   ],
   "metadata": {
    "collapsed": false
   },
   "id": "47ffdb26c9098194"
  },
  {
   "cell_type": "code",
   "execution_count": null,
   "outputs": [],
   "source": [
    "test_loss, test_acc = model.evaluate(X_test, y_test)\n",
    "print(f'\\nPrecisión en el conjunto de prueba: {test_acc}')\n",
    "print(f'\\nPérdida en el conjunto de prueba: {test_loss}')"
   ],
   "metadata": {
    "collapsed": false
   },
   "id": "2669e95845401d4a"
  },
  {
   "cell_type": "markdown",
   "source": [
    "<p>Visualizamos precisión y pérdida con matplot</p>"
   ],
   "metadata": {
    "collapsed": false
   },
   "id": "a378eeca00711568"
  },
  {
   "cell_type": "code",
   "execution_count": null,
   "id": "initial_id",
   "metadata": {
    "collapsed": true
   },
   "outputs": [],
   "source": [
    "# Definir early stopping\n",
    "early_stopping = EarlyStopping(monitor='val_loss', patience=5, restore_best_weights=True)\n",
    "\n",
    "history = model.fit(X_train, y_train, epochs=100, validation_data=(X_test, y_test), callbacks=[early_stopping])\n",
    "\n",
    "# Visualizar precisión y pérdida\n",
    "plt.plot(history.history['accuracy'], label='Train Accuracy')\n",
    "plt.plot(history.history['val_accuracy'], label='Validation Accuracy')\n",
    "plt.legend()\n",
    "plt.show()\n",
    "\n",
    "plt.plot(history.history['loss'], label='Train Loss')\n",
    "plt.plot(history.history['val_loss'], label='Validation Loss')\n",
    "plt.legend()\n",
    "plt.show()\n"
   ]
  }
 ],
 "metadata": {
  "kernelspec": {
   "display_name": "Python 3",
   "language": "python",
   "name": "python3"
  },
  "language_info": {
   "codemirror_mode": {
    "name": "ipython",
    "version": 2
   },
   "file_extension": ".py",
   "mimetype": "text/x-python",
   "name": "python",
   "nbconvert_exporter": "python",
   "pygments_lexer": "ipython2",
   "version": "2.7.6"
  }
 },
 "nbformat": 4,
 "nbformat_minor": 5
}
